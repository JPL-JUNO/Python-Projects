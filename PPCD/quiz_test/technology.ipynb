{
 "cells": [
  {
   "cell_type": "code",
   "execution_count": 51,
   "metadata": {},
   "outputs": [
    {
     "name": "stdout",
     "output_type": "stream",
     "text": [
      "\n",
      "@File         : technology.ipynb\n",
      "@Author(s)    : Stephen CUI\n",
      "@LastEditor(s): Stephen CUI\n",
      "@CreatedTime  : 2024-01-28 22:31:27\n",
      "@Email        : cuixuanstephen@gmail.com\n",
      "@Description  : 数据库应用--SQLite3 的主要使用\n",
      "\n"
     ]
    }
   ],
   "source": [
    "print(\"\"\"\n",
    "@File         : technology.ipynb\n",
    "@Author(s)    : Stephen CUI\n",
    "@LastEditor(s): Stephen CUI\n",
    "@CreatedTime  : 2024-01-28 22:31:27\n",
    "@Email        : cuixuanstephen@gmail.com\n",
    "@Description  : 数据库应用--SQLite3 的主要使用\n",
    "\"\"\")"
   ]
  },
  {
   "cell_type": "code",
   "execution_count": 52,
   "metadata": {},
   "outputs": [],
   "source": [
    "import sqlite3"
   ]
  },
  {
   "cell_type": "markdown",
   "metadata": {},
   "source": [
    "## 访问数据的步骤"
   ]
  },
  {
   "cell_type": "markdown",
   "metadata": {},
   "source": [
    "1. 使用数据库模块的 `connect()` 函数建立数据库连接，返回连接对象 `con`。对于不同的数据库连接对象，其连接字符串的格式不同，sqlite 的连接字符串为数据库的文件名 ，例如 `D:\\test.db`。 如果指定连接字符串为 memory，则可创建一个内存数据库。\n",
    "如果 D 盘下的 test.db 存在，则打开数据库；否则在该路径下创建数据库 test.db 并打开。"
   ]
  },
  {
   "cell_type": "code",
   "execution_count": 53,
   "metadata": {},
   "outputs": [],
   "source": [
    "con = sqlite3.connect('test.db')"
   ]
  },
  {
   "cell_type": "markdown",
   "metadata": {},
   "source": [
    "2. 使用游标对象能够灵活地对从表中检索出的数据进行操作，就本质而言，游标实际上是一种能从包括多条数据记录的结果集中每次提取一条记录的机制。"
   ]
  },
  {
   "cell_type": "code",
   "execution_count": 54,
   "metadata": {},
   "outputs": [],
   "source": [
    "cur = con.cursor()"
   ]
  },
  {
   "cell_type": "markdown",
   "metadata": {},
   "source": [
    "3. 调用 `cur.execute()`、`cur.executemany()`、`cur.executescript()` 方法查询数据库 。"
   ]
  },
  {
   "cell_type": "markdown",
   "metadata": {},
   "source": [
    "- `cur.execute(sql)`：执行 SQL 语句 。\n",
    "- `cur.execute(sql, parameters)`：执行带参数的 SQL 语句。\n",
    "- `cur.executemany(sql, seq_of_pqrameters)`：根据参数执行多次 SQL 语句 。\n",
    "- `cur.executescript(sql_script)`：执行 SQL 脚本。"
   ]
  },
  {
   "cell_type": "code",
   "execution_count": 55,
   "metadata": {},
   "outputs": [
    {
     "data": {
      "text/plain": [
       "<sqlite3.Cursor at 0x1636f8612c0>"
      ]
     },
     "execution_count": 55,
     "metadata": {},
     "output_type": "execute_result"
    }
   ],
   "source": [
    "cur.execute('drop table if exists category;')\n",
    "cur.execute(\"create table category (id primary key, sort, name);\")"
   ]
  },
  {
   "cell_type": "code",
   "execution_count": 56,
   "metadata": {},
   "outputs": [
    {
     "data": {
      "text/plain": [
       "<sqlite3.Cursor at 0x1636f8612c0>"
      ]
     },
     "execution_count": 56,
     "metadata": {},
     "output_type": "execute_result"
    }
   ],
   "source": [
    "cur.execute(\"insert into category values (1, 1, 'computer')\")"
   ]
  },
  {
   "cell_type": "markdown",
   "metadata": {},
   "source": [
    "在 SQL 语句字符串中可以使用占位符 \"?\" 表示参数，传递的参数使用元组。 "
   ]
  },
  {
   "cell_type": "code",
   "execution_count": 57,
   "metadata": {},
   "outputs": [
    {
     "data": {
      "text/plain": [
       "<sqlite3.Cursor at 0x1636f8612c0>"
      ]
     },
     "execution_count": 57,
     "metadata": {},
     "output_type": "execute_result"
    }
   ],
   "source": [
    "cur.execute(\"insert into category values (?, ?, ?)\", (2, 3, 'literature'))"
   ]
  },
  {
   "cell_type": "markdown",
   "metadata": {},
   "source": [
    "4. 调用 `cur.fetchall()`、`cur.fetchone()`、`cur.fetchmany()` 返回查询结果。"
   ]
  },
  {
   "cell_type": "markdown",
   "metadata": {},
   "source": [
    "- `cur.fetchone()`：返回结果集的下一行(Row 对象)，无数据时返回 None。\n",
    "- `cur.fetchall()`：返回结果集的剩余行(Row 对象列表)，无数据时返回空 List。\n",
    "- `cur.fetchmany()`：返回结果集的多行(Row 对象列表)，无数据时返回空 List。"
   ]
  },
  {
   "cell_type": "code",
   "execution_count": 58,
   "metadata": {},
   "outputs": [
    {
     "data": {
      "text/plain": [
       "[(1, 1, 'computer'), (2, 3, 'literature')]"
      ]
     },
     "execution_count": 58,
     "metadata": {},
     "output_type": "execute_result"
    }
   ],
   "source": [
    "cur.execute(\"select * from category;\")\n",
    "cur.fetchall()"
   ]
  },
  {
   "cell_type": "code",
   "execution_count": 59,
   "metadata": {},
   "outputs": [
    {
     "name": "stdout",
     "output_type": "stream",
     "text": [
      "1 computer\n",
      "2 literature\n"
     ]
    }
   ],
   "source": [
    "for row in cur.execute(\"select * from category;\"):\n",
    "    print(row[0], row[2])"
   ]
  },
  {
   "cell_type": "markdown",
   "metadata": {},
   "source": [
    "5. 根据数据库事物隔离级别的不同，可以提交或回滚。\n",
    "\n",
    "- `con.commit()`：事务提交。\n",
    "- `con.rollback()`：事务回滚。\n",
    "\n",
    "**创建表格是不需要提交，插入数据需要提交？？**"
   ]
  },
  {
   "cell_type": "code",
   "execution_count": 60,
   "metadata": {},
   "outputs": [],
   "source": [
    "con.commit()"
   ]
  },
  {
   "cell_type": "markdown",
   "metadata": {},
   "source": [
    "6. 最后需要关闭打开的 Cursor 对象和 Connection 对象 。\n",
    "\n",
    "- `cur.close()`：关闭 Cursor 对象。\n",
    "- `con.close()`: 关闭 Connection 对象 。"
   ]
  },
  {
   "cell_type": "code",
   "execution_count": 61,
   "metadata": {},
   "outputs": [],
   "source": [
    "cur.close()\n",
    "con.close()"
   ]
  },
  {
   "cell_type": "markdown",
   "metadata": {},
   "source": [
    "## 创建数据库和表"
   ]
  },
  {
   "cell_type": "code",
   "execution_count": 85,
   "metadata": {},
   "outputs": [],
   "source": [
    "con = sqlite3.connect('./sales.db')\n",
    "cur = con.execute('drop table if exists book;')\n",
    "cur = con.execute('create table book (id primary key, price, name);')\n",
    "con.commit()\n",
    "cur.close()\n",
    "con.close()"
   ]
  },
  {
   "cell_type": "markdown",
   "metadata": {},
   "source": [
    "说明： Connection 对象的 `execute()` 方法是 Cursor 对象对应方法的快捷方式，系统会创建一个临时 Cursor 对象，然后调用对应的方法，并返回 Cursor 对象 。"
   ]
  },
  {
   "cell_type": "markdown",
   "metadata": {},
   "source": [
    "## 数据库的插入、更新和删除操作"
   ]
  },
  {
   "cell_type": "code",
   "execution_count": 86,
   "metadata": {},
   "outputs": [
    {
     "name": "stdout",
     "output_type": "stream",
     "text": [
      "删除了 2 行记录\n"
     ]
    }
   ],
   "source": [
    "books=[\n",
    "    ('021', 25, '计算机'),\n",
    "    ('022', 30, '英语'),\n",
    "    ('023', 18, '艺术鉴赏'),\n",
    "    ('024', 35, 'Learning Python'),\n",
    "]\n",
    "\n",
    "con = sqlite3.connect('./sales.db')\n",
    "cur = con.cursor()\n",
    "\n",
    "cur.execute(\"insert into book(id, price, name) values('001', 33, '多媒体');\")\n",
    "cur.execute(\"insert into book(id, price, name) values(?, ?, ?);\", ('002', 28, 'DataBase'))\n",
    "cur.executemany(\"insert into book(id, price, name) values(?, ?, ?);\", books)\n",
    "\n",
    "cur.execute(\"update book set price = ? where name = ?;\", (25, '英语'))\n",
    "n = cur.execute('delete from book where price = ?;', (25, ))\n",
    "print('删除了', n.rowcount, '行记录')\n",
    "con.commit()\n",
    "cur.close()\n",
    "con.close()"
   ]
  },
  {
   "cell_type": "markdown",
   "metadata": {},
   "source": [
    "## 数据库表的查询操作"
   ]
  },
  {
   "cell_type": "code",
   "execution_count": 88,
   "metadata": {},
   "outputs": [
    {
     "name": "stdout",
     "output_type": "stream",
     "text": [
      "('001', 33, '多媒体')\n",
      "('002', 28, 'DataBase')\n",
      "('023', 18, '艺术鉴赏')\n",
      "('024', 35, 'Learning Python')\n"
     ]
    }
   ],
   "source": [
    "con = sqlite3.connect('./sales.db')\n",
    "cur = con.cursor()\n",
    "cur.execute('select id, price, name from book;')\n",
    "for row in cur:\n",
    "    print(row)"
   ]
  },
  {
   "cell_type": "markdown",
   "metadata": {},
   "source": [
    "## 数据库使用实例——学生通讯录"
   ]
  },
  {
   "cell_type": "code",
   "execution_count": null,
   "metadata": {},
   "outputs": [],
   "source": []
  }
 ],
 "metadata": {
  "kernelspec": {
   "display_name": "Python 3",
   "language": "python",
   "name": "python3"
  },
  "language_info": {
   "codemirror_mode": {
    "name": "ipython",
    "version": 3
   },
   "file_extension": ".py",
   "mimetype": "text/x-python",
   "name": "python",
   "nbconvert_exporter": "python",
   "pygments_lexer": "ipython3",
   "version": "3.11.1"
  }
 },
 "nbformat": 4,
 "nbformat_minor": 2
}
